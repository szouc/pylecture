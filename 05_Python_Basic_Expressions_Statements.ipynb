{
 "cells": [
  {
   "cell_type": "markdown",
   "metadata": {},
   "source": [
    "# 第五章： 基本的表达式和语句\n",
    "\n",
    "## 赋值语句\n",
    "\n",
    "赋值语句会创建一个对象并命名(创建变量)。"
   ]
  },
  {
   "cell_type": "code",
   "execution_count": 1,
   "metadata": {
    "collapsed": true
   },
   "outputs": [],
   "source": [
    "message = 'Python is Awesome!'\n",
    "n = 17\n",
    "pi = 3.1415926535897932384626"
   ]
  },
  {
   "cell_type": "markdown",
   "metadata": {},
   "source": [
    "**message** $\\to$ 'Python is Awesome!'\n",
    "\n",
    "**n** $\\to$ 17\n",
    "\n",
    "**pi** $\\to$ 3.1415926535897932384626"
   ]
  },
  {
   "cell_type": "markdown",
   "metadata": {},
   "source": [
    "## 表达式\n",
    "\n",
    "值，变量和操作符的组合，通常有结果。"
   ]
  },
  {
   "cell_type": "code",
   "execution_count": 2,
   "metadata": {
    "collapsed": false
   },
   "outputs": [
    {
     "data": {
      "text/plain": [
       "26"
      ]
     },
     "execution_count": 2,
     "metadata": {},
     "output_type": "execute_result"
    }
   ],
   "source": [
    "26"
   ]
  },
  {
   "cell_type": "code",
   "execution_count": 3,
   "metadata": {
    "collapsed": false
   },
   "outputs": [
    {
     "data": {
      "text/plain": [
       "33"
      ]
     },
     "execution_count": 3,
     "metadata": {},
     "output_type": "execute_result"
    }
   ],
   "source": [
    "26 + 7"
   ]
  },
  {
   "cell_type": "markdown",
   "metadata": {},
   "source": [
    "## 语句\n",
    "\n",
    "有作用的代码单元，通常没有结果。"
   ]
  },
  {
   "cell_type": "code",
   "execution_count": 4,
   "metadata": {
    "collapsed": true
   },
   "outputs": [],
   "source": [
    "n = 26"
   ]
  },
  {
   "cell_type": "code",
   "execution_count": 5,
   "metadata": {
    "collapsed": false
   },
   "outputs": [
    {
     "name": "stdout",
     "output_type": "stream",
     "text": [
      "26\n"
     ]
    }
   ],
   "source": [
    "print(n)"
   ]
  },
  {
   "cell_type": "markdown",
   "metadata": {},
   "source": [
    "## 逻辑表达式\n",
    "\n",
    "逻辑表达式只有两种结果：**True** 或者 **False**。\n",
    "\n",
    "- **关系操作符**：\n",
    "\n",
    "    - $x == y$ ， x 等于 y 返回 True，否则返回 False 。\n",
    "    - $x != y$ ， x 不等于 y 返回 True， 否则返回 False。\n",
    "    - $x < y$ ， x 小于 y 返回 True， 否则返回 False。\n",
    "    - $x > y$ ， x 大于 y 返回 True， 否则返回 False。\n",
    "    - $x <= y$ ， x 小于等于 y 返回 True， 否则返回 False。\n",
    "    - $x >= y$ ， x 大于等于 y 返回 True， 否则返回 False。"
   ]
  },
  {
   "cell_type": "code",
   "execution_count": 6,
   "metadata": {
    "collapsed": false
   },
   "outputs": [
    {
     "data": {
      "text/plain": [
       "True"
      ]
     },
     "execution_count": 6,
     "metadata": {},
     "output_type": "execute_result"
    }
   ],
   "source": [
    "5 == 5"
   ]
  },
  {
   "cell_type": "code",
   "execution_count": 7,
   "metadata": {
    "collapsed": false
   },
   "outputs": [
    {
     "data": {
      "text/plain": [
       "False"
      ]
     },
     "execution_count": 7,
     "metadata": {},
     "output_type": "execute_result"
    }
   ],
   "source": [
    "5 == 6"
   ]
  },
  {
   "cell_type": "markdown",
   "metadata": {},
   "source": [
    "- **逻辑操作符**：**and**、**or** and **not**\n"
   ]
  },
  {
   "cell_type": "code",
   "execution_count": 16,
   "metadata": {
    "collapsed": false
   },
   "outputs": [
    {
     "data": {
      "text/plain": [
       "False"
      ]
     },
     "execution_count": 16,
     "metadata": {},
     "output_type": "execute_result"
    }
   ],
   "source": [
    "(5 == 5) and (5 == 6)"
   ]
  },
  {
   "cell_type": "code",
   "execution_count": 17,
   "metadata": {
    "collapsed": false
   },
   "outputs": [
    {
     "data": {
      "text/plain": [
       "True"
      ]
     },
     "execution_count": 17,
     "metadata": {},
     "output_type": "execute_result"
    }
   ],
   "source": [
    "(5 == 5) or (5 == 6)"
   ]
  },
  {
   "cell_type": "code",
   "execution_count": 18,
   "metadata": {
    "collapsed": false
   },
   "outputs": [
    {
     "data": {
      "text/plain": [
       "True"
      ]
     },
     "execution_count": 18,
     "metadata": {},
     "output_type": "execute_result"
    }
   ],
   "source": [
    "not(5 == 6)"
   ]
  },
  {
   "cell_type": "markdown",
   "metadata": {},
   "source": [
    "## if 语句\n",
    "\n",
    "### 条件执行"
   ]
  },
  {
   "cell_type": "code",
   "execution_count": 11,
   "metadata": {
    "collapsed": false
   },
   "outputs": [
    {
     "name": "stdout",
     "output_type": "stream",
     "text": [
      "这是一个成年人，享有各种相应的权利，同时亦要负起一些义务。\n"
     ]
    }
   ],
   "source": [
    "age = 18\n",
    "\n",
    "if age >= 18:\n",
    "    print(\"这是一个成年人，享有各种相应的权利，同时亦要负起一些义务。\")"
   ]
  },
  {
   "cell_type": "markdown",
   "metadata": {},
   "source": [
    "### 交替执行"
   ]
  },
  {
   "cell_type": "code",
   "execution_count": 12,
   "metadata": {
    "collapsed": false
   },
   "outputs": [
    {
     "name": "stdout",
     "output_type": "stream",
     "text": [
      "你可以饮用酒精类饮品。\n"
     ]
    }
   ],
   "source": [
    "age = 18\n",
    "\n",
    "if age >= 18:\n",
    "    print(\"你可以饮用酒精类饮品。\")\n",
    "else:\n",
    "    print(\"你不可以饮酒！\")"
   ]
  },
  {
   "cell_type": "markdown",
   "metadata": {},
   "source": [
    "### 链式条件"
   ]
  },
  {
   "cell_type": "code",
   "execution_count": 13,
   "metadata": {
    "collapsed": false
   },
   "outputs": [
    {
     "name": "stdout",
     "output_type": "stream",
     "text": [
      "x 小于 y\n"
     ]
    }
   ],
   "source": [
    "x = 5\n",
    "y = 7\n",
    "\n",
    "if x > y:\n",
    "    print(\"x 大于 y\")\n",
    "elif x < y:\n",
    "    print(\"x 小于 y\")\n",
    "else:\n",
    "    print(\"x 等于 y\")"
   ]
  },
  {
   "cell_type": "markdown",
   "metadata": {},
   "source": [
    "### 嵌套条件"
   ]
  },
  {
   "cell_type": "code",
   "execution_count": 14,
   "metadata": {
    "collapsed": false
   },
   "outputs": [
    {
     "name": "stdout",
     "output_type": "stream",
     "text": [
      "你还没有结婚的权利，但拥有承担法律责任的义务。\n"
     ]
    }
   ],
   "source": [
    "age = 19\n",
    "# sex = 'male'\n",
    "\n",
    "if age < 18:\n",
    "    print(\"你未成年。\")\n",
    "else:\n",
    "    if age >= 22:\n",
    "        print(\"你拥有结婚的权利，同时拥有承担法律责任的义务。\")\n",
    "    else:\n",
    "        print(\"你还没有结婚的权利，但拥有承担法律责任的义务。\")"
   ]
  },
  {
   "cell_type": "markdown",
   "metadata": {
    "collapsed": true
   },
   "source": [
    "----\n",
    "\n",
    "- **缩进**\n",
    "\n",
    "    在 Python 中，缩进是强制的，目的一：表示同一区块，目的二：促使程序员写出易读的程序。\n",
    "    \n",
    "    \n",
    "    - 同一区块具有相同的缩进。\n",
    "\n",
    "    - 区块是程序中用来描述问题、方案和功能的语句分组。\n",
    "    \n",
    "    - 程序用区块来建立层次逻辑结构。\n",
    "    \n",
    "    - 建议缩进大小是 4 个空格。\n",
    "\n",
    "\n",
    "![](https://raw.githubusercontent.com/szouc/MarkdownImages/master/Raw/block.png)"
   ]
  },
  {
   "cell_type": "code",
   "execution_count": 15,
   "metadata": {
    "collapsed": false
   },
   "outputs": [
    {
     "ename": "IndentationError",
     "evalue": "unexpected indent (<ipython-input-15-d1b76cf7a526>, line 5)",
     "output_type": "error",
     "traceback": [
      "\u001b[1;36m  File \u001b[1;32m\"<ipython-input-15-d1b76cf7a526>\"\u001b[1;36m, line \u001b[1;32m5\u001b[0m\n\u001b[1;33m    print(\"你是成年人了。\")\u001b[0m\n\u001b[1;37m    ^\u001b[0m\n\u001b[1;31mIndentationError\u001b[0m\u001b[1;31m:\u001b[0m unexpected indent\n"
     ]
    }
   ],
   "source": [
    "age = 21\n",
    "\n",
    "if age > 21:\n",
    "    print(\"如果你在阿根廷\")\n",
    "        print(\"你是成年人了。\")"
   ]
  },
  {
   "cell_type": "markdown",
   "metadata": {},
   "source": [
    "### 混合条件"
   ]
  },
  {
   "cell_type": "code",
   "execution_count": 27,
   "metadata": {
    "collapsed": false
   },
   "outputs": [
    {
     "name": "stdout",
     "output_type": "stream",
     "text": [
      "你的等级是：\n",
      "A\n"
     ]
    }
   ],
   "source": [
    "score = 100\n",
    "\n",
    "if score >= 60 and score < 70:\n",
    "    print(\"你的等级是：\")\n",
    "    print(\"D\")\n",
    "elif score >= 70 and score < 80:\n",
    "    print(\"你的等级是：\")\n",
    "    print(\"C\")\n",
    "elif score >= 80 and score < 90:\n",
    "    print(\"你的等级是：\")\n",
    "    print(\"B\")\n",
    "elif score >= 90 and score <= 100:\n",
    "    print(\"你的等级是：\")\n",
    "    print(\"A\")\n",
    "else:\n",
    "    print(\"你的等级是：\")\n",
    "    print(\"E\")"
   ]
  },
  {
   "cell_type": "markdown",
   "metadata": {},
   "source": [
    "## for 语句\n",
    "\n",
    "数羊是克服失眠的传统方法。"
   ]
  },
  {
   "cell_type": "code",
   "execution_count": 31,
   "metadata": {
    "collapsed": false
   },
   "outputs": [
    {
     "name": "stdout",
     "output_type": "stream",
     "text": [
      "1 只羊\n",
      "2 只羊\n",
      "3 只羊\n",
      "4 只羊\n",
      "5 只羊\n"
     ]
    }
   ],
   "source": [
    "print(1, '只羊')\n",
    "print(2, '只羊')\n",
    "print(3, '只羊')\n",
    "print(4, '只羊')\n",
    "print(5, '只羊')"
   ]
  },
  {
   "cell_type": "markdown",
   "metadata": {},
   "source": [
    "-------\n",
    "\n",
    "同样，在编程中重复某个语句也是很枯燥的。通过 for 语句改进后："
   ]
  },
  {
   "cell_type": "code",
   "execution_count": 30,
   "metadata": {
    "collapsed": false
   },
   "outputs": [
    {
     "name": "stdout",
     "output_type": "stream",
     "text": [
      "1 只羊\n",
      "2 只羊\n",
      "3 只羊\n",
      "4 只羊\n",
      "5 只羊\n"
     ]
    }
   ],
   "source": [
    "for x in range(1, 6):    # for ... in ... ：\n",
    "    print(x, '只羊')"
   ]
  },
  {
   "cell_type": "code",
   "execution_count": 33,
   "metadata": {
    "collapsed": false
   },
   "outputs": [
    {
     "name": "stdout",
     "output_type": "stream",
     "text": [
      "range(1, 6)\n"
     ]
    }
   ],
   "source": [
    "print(range(1, 6))    # range 函数返回的是 ‘迭代器’, Python 语言为循环专门设计的对象。"
   ]
  },
  {
   "cell_type": "code",
   "execution_count": 34,
   "metadata": {
    "collapsed": false
   },
   "outputs": [
    {
     "name": "stdout",
     "output_type": "stream",
     "text": [
      "[1, 2, 3, 4, 5]\n"
     ]
    }
   ],
   "source": [
    "print(list(range(1, 6)))"
   ]
  },
  {
   "cell_type": "code",
   "execution_count": 1,
   "metadata": {
    "collapsed": false
   },
   "outputs": [
    {
     "name": "stdout",
     "output_type": "stream",
     "text": [
      "1 只羊\n",
      "2 只羊\n",
      "3 只羊\n",
      "4 只羊\n",
      "5 只羊\n"
     ]
    }
   ],
   "source": [
    "for x in range(1, 6):\n",
    "    print('{} 只羊'.format(x))"
   ]
  },
  {
   "cell_type": "markdown",
   "metadata": {},
   "source": [
    "### 例子：使用循环编写斐波那契数列"
   ]
  },
  {
   "cell_type": "code",
   "execution_count": 5,
   "metadata": {
    "collapsed": false
   },
   "outputs": [
    {
     "name": "stdout",
     "output_type": "stream",
     "text": [
      "0 0\n",
      "1 0\n",
      "1 1.0\n",
      "2 2.0\n",
      "3 1.5\n",
      "5 1.6666666666666667\n",
      "8 1.6\n",
      "13 1.625\n",
      "21 1.6153846153846154\n",
      "34 1.619047619047619\n",
      "55 1.6176470588235294\n",
      "89 1.6181818181818182\n",
      "144 1.6179775280898876\n",
      "233 1.6180555555555556\n",
      "377 1.6180257510729614\n",
      "610 1.6180371352785146\n",
      "987 1.618032786885246\n"
     ]
    }
   ],
   "source": [
    "fib1 = 0\n",
    "fib2 = 1\n",
    "print(fib1, 0)\n",
    "print(fib2, 0)\n",
    "\n",
    "for n in range(0, 15):\n",
    "    fib = fib1 + fib2\n",
    "    golden = fib / fib2\n",
    "    fib1 = fib2\n",
    "    fib2 = fib\n",
    "    print(fib, golden)"
   ]
  },
  {
   "cell_type": "code",
   "execution_count": 4,
   "metadata": {
    "collapsed": false
   },
   "outputs": [
    {
     "data": {
      "text/plain": [
       "1.618033988749895"
      ]
     },
     "execution_count": 4,
     "metadata": {},
     "output_type": "execute_result"
    }
   ],
   "source": [
    "golden_rate = (1 + 5 ** 0.5) / 2\n",
    "golden_rate"
   ]
  },
  {
   "cell_type": "markdown",
   "metadata": {},
   "source": [
    "### 循环范围用列表对象表示"
   ]
  },
  {
   "cell_type": "code",
   "execution_count": 53,
   "metadata": {
    "collapsed": false
   },
   "outputs": [
    {
     "name": "stdout",
     "output_type": "stream",
     "text": [
      "Lucy\n",
      "Jeff\n",
      "Steven\n",
      "Sue\n",
      "Joe\n",
      "Scarlett\n",
      "Sydney\n"
     ]
    }
   ],
   "source": [
    "Roll = ['Lucy', 'Jeff', 'Steven', 'Sue', 'Joe', 'Scarlett', 'Sydney']\n",
    "\n",
    "for name in Roll:   \n",
    "    print(name)"
   ]
  },
  {
   "cell_type": "markdown",
   "metadata": {},
   "source": [
    "### 循环范围用字典对象表示"
   ]
  },
  {
   "cell_type": "code",
   "execution_count": 49,
   "metadata": {
    "collapsed": false
   },
   "outputs": [],
   "source": [
    "Grade_Dict = {'Lucy':'大一',\n",
    "              'Jeff':'大二', \n",
    "              'Steven':'大一',\n",
    "              'Sue':'大二',\n",
    "              'Joe':'大三',\n",
    "              'Scarlett':'大一',\n",
    "              'Sydney':'大一'}"
   ]
  },
  {
   "cell_type": "code",
   "execution_count": 51,
   "metadata": {
    "collapsed": false
   },
   "outputs": [
    {
     "name": "stdout",
     "output_type": "stream",
     "text": [
      "Sydney 现在 大一\n",
      "Sue 现在 大二\n",
      "Jeff 现在 大二\n",
      "Lucy 现在 大一\n",
      "Scarlett 现在 大一\n",
      "Joe 现在 大三\n",
      "Steven 现在 大一\n"
     ]
    }
   ],
   "source": [
    "for name in Grade_Dict:     # 遍历键，等于 for name in Grade_Dict.keys():\n",
    "    print('{name} 现在 {grade}'.format(name=name, grade=Grade_Dict[name]))"
   ]
  },
  {
   "cell_type": "code",
   "execution_count": 62,
   "metadata": {
    "collapsed": false
   },
   "outputs": [
    {
     "name": "stdout",
     "output_type": "stream",
     "text": [
      "Sydney 现在 大一\n",
      "Sue 现在 大二\n",
      "Jeff 现在 大二\n",
      "Lucy 现在 大一\n",
      "Scarlett 现在 大一\n",
      "Joe 现在 大三\n",
      "Steven 现在 大一\n"
     ]
    }
   ],
   "source": [
    "for name, grade in Grade_Dict.items():\n",
    "    print('{name} 现在 {grade}'.format(name=name, grade=grade))"
   ]
  },
  {
   "cell_type": "markdown",
   "metadata": {
    "collapsed": true
   },
   "source": [
    "### 对象解析\n",
    "\n",
    "- **列表解析**"
   ]
  },
  {
   "cell_type": "code",
   "execution_count": 9,
   "metadata": {
    "collapsed": false
   },
   "outputs": [
    {
     "data": {
      "text/plain": [
       "['LUCY', 'JEFF', 'STEVEN', 'SUE', 'JOE', 'SCARLETT', 'SYDNEY']"
      ]
     },
     "execution_count": 9,
     "metadata": {},
     "output_type": "execute_result"
    }
   ],
   "source": [
    "Roll = ['Lucy', 'Jeff', 'Steven', 'Sue', 'Joe', 'Scarlett', 'Sydney']\n",
    "\n",
    "Upper_Roll = [name.upper() for name in Roll]     # 通过解析初始化列表对象\n",
    "Upper_Roll"
   ]
  },
  {
   "cell_type": "code",
   "execution_count": 10,
   "metadata": {
    "collapsed": false
   },
   "outputs": [
    {
     "data": {
      "text/plain": [
       "[6, 7, 8, 9]"
      ]
     },
     "execution_count": 10,
     "metadata": {},
     "output_type": "execute_result"
    }
   ],
   "source": [
    "Number = list(range(1, 10))\n",
    "bigger = [nu for nu in Number if nu > 5]\n",
    "bigger"
   ]
  },
  {
   "cell_type": "markdown",
   "metadata": {},
   "source": [
    "- **字典解析**"
   ]
  },
  {
   "cell_type": "code",
   "execution_count": 11,
   "metadata": {
    "collapsed": false
   },
   "outputs": [
    {
     "data": {
      "text/plain": [
       "{'JEFF': '大二',\n",
       " 'JOE': '大三',\n",
       " 'LUCY': '大一',\n",
       " 'SCARLETT': '大一',\n",
       " 'STEVEN': '大一',\n",
       " 'SUE': '大二',\n",
       " 'SYDNEY': '大一'}"
      ]
     },
     "execution_count": 11,
     "metadata": {},
     "output_type": "execute_result"
    }
   ],
   "source": [
    "Grade_Dict = {'Lucy':'大一',\n",
    "              'Jeff':'大二', \n",
    "              'Steven':'大一',\n",
    "              'Sue':'大二',\n",
    "              'Joe':'大三',\n",
    "              'Scarlett':'大一',\n",
    "              'Sydney':'大一'}\n",
    "\n",
    "Upper_Name_Dict = {name.upper():value for name, value in Grade_Dict.items()}\n",
    "Upper_Name_Dict"
   ]
  },
  {
   "cell_type": "code",
   "execution_count": 18,
   "metadata": {
    "collapsed": false
   },
   "outputs": [
    {
     "data": {
      "text/plain": [
       "{'What is your Version?': 'It is 3.5.',\n",
       " 'What is your name?': 'It is Python.',\n",
       " 'What is your slogan?': 'It is \"Life is Short, Use Python\".'}"
      ]
     },
     "execution_count": 18,
     "metadata": {},
     "output_type": "execute_result"
    }
   ],
   "source": [
    "questions = ['name', 'Version', 'slogan']\n",
    "answers = ['Python', '3.5', '\\\"Life is Short, Use Python\\\"']\n",
    "\n",
    "quiz = {'What is your {}?'.format(q): 'It is {}.'.format(a) for q, a in zip(questions, answers)}\n",
    "quiz"
   ]
  },
  {
   "cell_type": "markdown",
   "metadata": {},
   "source": [
    "## while 语句"
   ]
  },
  {
   "cell_type": "code",
   "execution_count": 20,
   "metadata": {
    "collapsed": false
   },
   "outputs": [
    {
     "name": "stdout",
     "output_type": "stream",
     "text": [
      "2\n",
      "3\n",
      "4\n",
      "5\n",
      "6\n",
      "7\n",
      "8\n",
      "9\n"
     ]
    }
   ],
   "source": [
    "number = 2\n",
    "\n",
    "while number < 10:\n",
    "    print(number)\n",
    "    number += 1"
   ]
  },
  {
   "cell_type": "markdown",
   "metadata": {},
   "source": [
    "## break 语句"
   ]
  },
  {
   "cell_type": "code",
   "execution_count": 22,
   "metadata": {
    "collapsed": false
   },
   "outputs": [
    {
     "name": "stdout",
     "output_type": "stream",
     "text": [
      "2 是素数。\n",
      "3 是素数。\n",
      "4 = 2 * 2\n",
      "5 是素数。\n",
      "6 = 2 * 3\n",
      "7 是素数。\n",
      "8 = 2 * 4\n",
      "9 = 3 * 3\n"
     ]
    }
   ],
   "source": [
    "for n in range(2, 10):\n",
    "    for x in range(2, n):\n",
    "        if n % x == 0:\n",
    "            print(n, '=', x, '*', n//x)\n",
    "            break\n",
    "    else:\n",
    "        # 没有整除因子\n",
    "        print(n, '是素数。')"
   ]
  },
  {
   "cell_type": "markdown",
   "metadata": {},
   "source": [
    "## continue 语句"
   ]
  },
  {
   "cell_type": "code",
   "execution_count": 27,
   "metadata": {
    "collapsed": false
   },
   "outputs": [
    {
     "name": "stdout",
     "output_type": "stream",
     "text": [
      "++ 偶数 ++ 2\n",
      "-- 奇数 -- 3\n",
      "++ 偶数 ++ 4\n",
      "-- 奇数 -- 5\n",
      "++ 偶数 ++ 6\n",
      "-- 奇数 -- 7\n",
      "++ 偶数 ++ 8\n",
      "-- 奇数 -- 9\n"
     ]
    }
   ],
   "source": [
    "for num in range(2, 10):\n",
    "    if num % 2 == 0:\n",
    "        print(\"++ 偶数 ++\", num)\n",
    "        continue\n",
    "    print(\"-- 奇数 --\", num)"
   ]
  },
  {
   "cell_type": "markdown",
   "metadata": {},
   "source": [
    "> 参考文献：\n",
    ">\n",
    "> [1]. Python for Kids, Jason R. Briggs, no starch press, 2013\n",
    ">\n",
    "> [2]. Think Python, Allen Downey, Green Tee Press, 2015\n",
    "> \n",
    "> [3]. www.python.org\n",
    "\n",
    "- szouc\n",
    "- 2016-06-15：初稿"
   ]
  },
  {
   "cell_type": "code",
   "execution_count": null,
   "metadata": {
    "collapsed": true
   },
   "outputs": [],
   "source": []
  }
 ],
 "metadata": {
  "kernelspec": {
   "display_name": "Python 3",
   "language": "python",
   "name": "python3"
  },
  "language_info": {
   "codemirror_mode": {
    "name": "ipython",
    "version": 3
   },
   "file_extension": ".py",
   "mimetype": "text/x-python",
   "name": "python",
   "nbconvert_exporter": "python",
   "pygments_lexer": "ipython3",
   "version": "3.5.1"
  },
  "widgets": {
   "state": {},
   "version": "1.1.2"
  }
 },
 "nbformat": 4,
 "nbformat_minor": 0
}
