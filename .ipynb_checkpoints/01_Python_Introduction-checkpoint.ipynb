{
 "cells": [
  {
   "cell_type": "markdown",
   "metadata": {},
   "source": [
    "# 第一章：Python 简介\n",
    "\n",
    "## 为什么要学习编程?\n",
    "\n",
    "- 培养创造力\n",
    "- 提高推理能力\n",
    "- 学会解决问题的方法\n",
    "\n",
    "我们从零开始创造，用逻辑关系将现实事务转化成电脑能够运行的程序，当然在此期间并不是一帆风顺，我们面对错误找出解决的方法。\n",
    "\n",
    "## 为什么是 Python？\n",
    "\n",
    "- 容易入门\n",
    "- 工具直观\n",
    "\n",
    "## 怎样学习编程？\n",
    "\n",
    "> **千里之行始于足下**\n",
    "\n",
    "- 美妙的交响乐由五线谱构成\n",
    "- 篮球运动员从运球开始练习\n",
    "- ABCD才是英语的基础\n",
    "    \n",
    "**如果遇到难题怎么办？**\n",
    "   \n",
    "1. 将问题分解，尝试理解每一部分，或者思考困难的地方。\n",
    "2. 站起来，到户外呼吸新鲜空气，浏览大好河山。（特别有用）\n",
    "\n",
    "## 本课程主要内容\n",
    "\n",
    "1. 安装 Python\n",
    "2. 基本操作和基本类型\n",
    "3. 玩游戏\n",
    "4. 基本语句\n",
    "5. 函数和对象\n",
    "6. 库\n",
    "\n",
    "## 兴趣使然\n",
    "\n",
    "记住，不要把这门课当成任务，这是可与朋友分享思想的游戏。"
   ]
  },
  {
   "cell_type": "markdown",
   "metadata": {
    "collapsed": true
   },
   "source": [
    "# 第二章： 安装 Python\n",
    "\n",
    "## 什么是程序？\n",
    "\n",
    "> 指示电脑执行某些任务的指令集合。\n",
    "\n",
    "- **软件是程序的整合**\n",
    "\n",
    "    - 电脑游戏\n",
    "    - 手机系统\n",
    "    - 冰箱制冷系统\n",
    "    - 红路灯系统\n",
    "    - 电子账单\n",
    "    - 电梯控制系统\n",
    "    \n",
    "- **程序是机器的“*思想*”**\n",
    "   \n",
    "    - 站起来\n",
    "    - 大步走\n",
    "    - 写笔记\n",
    "    - 鼓掌\n",
    "\n",
    "- **本课程像制造思想一样编程**\n",
    "\n",
    "    - 制作网站\n",
    "    - 编写游戏\n",
    "    - 完成作业\n",
    "    \n",
    "## 程序的语言 —— 编程语言\n",
    "\n",
    "人类彼此之间交流需要使用语言，程序员与电脑之间的交流也需要语言。**编程语言**提供了一种使得程序员和电脑都能理解的表达方式。\n",
    "- Python\n",
    "- C\n",
    "- Java\n",
    "- Basic\n",
    "- ......\n",
    "\n",
    "> 中文、日语和韩语属于最难学的语言行列，英语中等，最好学的有西班牙语，法语，意大利语等。（主要是对英语系国家统计！！！）\n",
    "\n",
    "## 安装 Python3\n",
    "\n",
    "### Windows 安装 Python3\n",
    "\n",
    "1. 浏览 Python 官方网站： http://www.python.org ，下载 Python3\n",
    "\n",
    "    ![image](https://raw.githubusercontent.com/szouc/MarkdownImages/master/Raw/Install_Python.png)\n",
    "    ![image](https://raw.githubusercontent.com/szouc/MarkdownImages/master/Raw/Install_Python_64.png)\n",
    "\n",
    "> 注意：下载的版本是**Python3**\n",
    "\n",
    "2. 鼠标双击安装 Python\n",
    "\n",
    "    1. ![image](https://raw.githubusercontent.com/szouc/MarkdownImages/master/Raw/install01.png)\n",
    "    2. ![image](https://raw.githubusercontent.com/szouc/MarkdownImages/master/Raw/install02.png)\n",
    "    3. ![image](https://raw.githubusercontent.com/szouc/MarkdownImages/master/Raw/install03.png)\n",
    "    \n",
    "## Ubuntu Linux 安装 Python3\n",
    "\n",
    "```bash\n",
    "sudo apt-get install python3\n",
    "sudo apt-get install python3-pip\n",
    "sudo apt-get install build-essential python3-dev\n",
    "```\n",
    "\n",
    "## 安装 IPython 和 Jupyter\n",
    "\n",
    "```bash\n",
    "pip3 install juypter\n",
    "```\n",
    "\n",
    "## 使用 Jupyter\n",
    "\n",
    "```bash\n",
    "jupyter notebook\n",
    "```"
   ]
  },
  {
   "cell_type": "code",
   "execution_count": 1,
   "metadata": {
    "collapsed": false
   },
   "outputs": [
    {
     "name": "stdout",
     "output_type": "stream",
     "text": [
      "Hello World!\n"
     ]
    }
   ],
   "source": [
    "print(\"Hello World!\")"
   ]
  },
  {
   "cell_type": "code",
   "execution_count": null,
   "metadata": {
    "collapsed": true
   },
   "outputs": [],
   "source": []
  }
 ],
 "metadata": {
  "kernelspec": {
   "display_name": "Python 3",
   "language": "python",
   "name": "python3"
  },
  "language_info": {
   "codemirror_mode": {
    "name": "ipython",
    "version": 3
   },
   "file_extension": ".py",
   "mimetype": "text/x-python",
   "name": "python",
   "nbconvert_exporter": "python",
   "pygments_lexer": "ipython3",
   "version": "3.5.1"
  },
  "widgets": {
   "state": {},
   "version": "1.1.2"
  }
 },
 "nbformat": 4,
 "nbformat_minor": 0
}
